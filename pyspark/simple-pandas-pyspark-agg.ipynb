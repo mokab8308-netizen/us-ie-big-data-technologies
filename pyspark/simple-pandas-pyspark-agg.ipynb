{
  "cells": [
    {
      "cell_type": "markdown",
      "metadata": {
        "id": "view-in-github",
        "colab_type": "text"
      },
      "source": [
        "<a href=\"https://colab.research.google.com/github/mokab8308-netizen/us-ie-big-data-technologies/blob/master/pyspark/simple-pandas-pyspark-agg.ipynb\" target=\"_parent\"><img src=\"https://colab.research.google.com/assets/colab-badge.svg\" alt=\"Open In Colab\"/></a>"
      ]
    },
    {
      "cell_type": "markdown",
      "metadata": {
        "id": "9UDKU42bmRub"
      },
      "source": [
        "# Exploring Spark with Pandas\n"
      ]
    },
    {
      "cell_type": "markdown",
      "metadata": {
        "id": "vPxCL7nGmRuc"
      },
      "source": [
        "Using pandas examples, convert the analysis to pyspark. This is useful if you discover your data grows too large for your tooling.\n",
        "\n",
        "The purpose of this notebook is to familiarise yourself you the pyspark API. You are welcome to use the R version of this if you wish. As long as you are able to obtain the correct results. We will be using python in this notebook as it is quite widely used through data science and the community is very large.\n",
        "\n"
      ]
    },
    {
      "cell_type": "markdown",
      "metadata": {
        "id": "yFGm6k_mmRud"
      },
      "source": [
        "#### Firstly, let's get our spark session"
      ]
    },
    {
      "cell_type": "code",
      "execution_count": null,
      "metadata": {
        "id": "3Cpiif_QmRud"
      },
      "outputs": [],
      "source": [
        "from pyspark.sql import SparkSession\n",
        "import pandas as pd\n",
        "spark = SparkSession.builder.appName('panda-and-spark').getOrCreate()"
      ]
    },
    {
      "cell_type": "markdown",
      "metadata": {
        "id": "8Wj1MYzhmRue"
      },
      "source": [
        "### Overview\n",
        "\n",
        "\n",
        "* Joining two dataframes/data sets\n",
        "* Simple aggregations\n",
        "* Persisting"
      ]
    },
    {
      "cell_type": "markdown",
      "metadata": {
        "id": "sB1lQpSXmRue"
      },
      "source": [
        "#### JOIN: Pandas\n",
        "\n",
        "We won't use this more in this notebook, but observe how the joins work.\n",
        "\n",
        "We what happens if you change from the default inner join to outer joins."
      ]
    },
    {
      "cell_type": "code",
      "execution_count": null,
      "metadata": {
        "id": "1KBWv-2LmRue"
      },
      "outputs": [],
      "source": [
        "customer_raw = [(1, 'bob', 3462543658686),\n",
        "           (2, 'rob', 9087567565439),\n",
        "           (3, 'tim', 5436586999467),\n",
        "           (4, 'tom', 8349756853250)]\n",
        "\n",
        "customer_cols = ['id', 'name', 'credit_card_number']\n",
        "\n",
        "\n",
        "\n",
        "orders_raw = [(1, 'ketchup', 'bob', 1.20),\n",
        "           (2, 'rutabaga', 'bob', 3.35),\n",
        "           (3, 'fake vegan meat', 'rob', 13.99),\n",
        "           (4, 'cheesey poofs', 'tim', 3.99),\n",
        "           (5, 'ice cream', 'tim', 4.95),\n",
        "           (6, 'protein powder', 'tom', 49.95)]\n",
        "\n",
        "orders_cols = ['id', 'product_name', 'customer', 'price']"
      ]
    },
    {
      "cell_type": "code",
      "execution_count": null,
      "metadata": {
        "id": "uRjv0xqZmRue"
      },
      "outputs": [],
      "source": [
        "customer_df = pd.DataFrame(customer_raw, columns=customer_cols)\n",
        "orders_df = pd.DataFrame(orders_raw, columns=orders_cols)\n",
        "\n",
        "customer_df\n",
        "\n",
        "joined_df = pd.merge(customer_df, orders_df, how='inner', left_on='name', right_on='customer')\n",
        "joined_df\n",
        "\n",
        "## For self study. What happens if (4, 'tom', 8349756853250) in valuesA becomes (4, 'tod', 8349756853250)\n",
        "## How do the results change?\n",
        "## More sensibly; what if customers have not made any orders but we still require them in the result set?"
      ]
    },
    {
      "cell_type": "markdown",
      "metadata": {
        "id": "rndrNNgsmRuf"
      },
      "source": [
        "#### JOIN: Spark"
      ]
    },
    {
      "cell_type": "code",
      "execution_count": null,
      "metadata": {
        "id": "W2JQHaCOmRuf"
      },
      "outputs": [],
      "source": [
        "customersDF = spark.createDataFrame(customer_raw, customer_cols)\n",
        "\n",
        "ordersDF = spark.createDataFrame(orders_raw, orders_cols)\n",
        "\n",
        "# Show tables\n",
        "customersDF.show()\n",
        "ordersDF.show()"
      ]
    },
    {
      "cell_type": "code",
      "execution_count": null,
      "metadata": {
        "id": "Uac7RUHqmRuf"
      },
      "outputs": [],
      "source": [
        "joinedDF = customersDF.join(ordersDF, customersDF.name == ordersDF.customer)\n",
        "joinedDF.show()"
      ]
    },
    {
      "cell_type": "markdown",
      "metadata": {
        "id": "H2JZd_j6mRuf"
      },
      "source": [
        "## Simple Aggregations\n",
        "\n",
        "Now let's explore simple aggregations. You will be using these often when doing exploratory work in big data. Remember, the intention here is that you grow familiar with the way the API works, and how to translate inquiries into that API."
      ]
    },
    {
      "cell_type": "markdown",
      "metadata": {
        "id": "d8prqzxtmRuf"
      },
      "source": [
        "> _How much did each person spend?_"
      ]
    },
    {
      "cell_type": "code",
      "execution_count": null,
      "metadata": {
        "id": "7tGyygZimRuf"
      },
      "outputs": [],
      "source": [
        "joined_df.groupby('name').agg({\"price\": [\"sum\"]})"
      ]
    },
    {
      "cell_type": "code",
      "execution_count": null,
      "metadata": {
        "id": "aGzXwZ_ymRuf"
      },
      "outputs": [],
      "source": [
        "import pyspark.sql.functions as f\n",
        "\n",
        "joinedDF.groupby('name').agg(f.sum('price').alias('total')).show()"
      ]
    },
    {
      "cell_type": "markdown",
      "metadata": {
        "id": "PdTqiH67mRuf"
      },
      "source": [
        "Let's use bigger data\n",
        "  * NYC crash data"
      ]
    },
    {
      "cell_type": "code",
      "source": [],
      "metadata": {
        "id": "OibJenG4KTjZ"
      },
      "execution_count": null,
      "outputs": []
    },
    {
      "cell_type": "code",
      "execution_count": 12,
      "metadata": {
        "id": "DAOidOVTmRuf",
        "colab": {
          "base_uri": "https://localhost:8080/"
        },
        "outputId": "527f418a-8e4b-439d-fe36-f72da366fca6"
      },
      "outputs": [
        {
          "output_type": "stream",
          "name": "stdout",
          "text": [
            "  % Total    % Received % Xferd  Average Speed   Time    Time     Time  Current\n",
            "                                 Dload  Upload   Total   Spent    Left  Speed\n",
            "100  443M    0  443M    0     0  3395k      0 --:--:--  0:02:13 --:--:-- 2064k\n"
          ]
        }
      ],
      "source": [
        "# save to the filesystem to prevent another load\n",
        "! curl https://data.cityofnewyork.us/api/views/h9gi-nx95/rows.csv -o rows.csv"
      ]
    },
    {
      "cell_type": "code",
      "source": [],
      "metadata": {
        "id": "ClKxsn3hNxsG"
      },
      "execution_count": null,
      "outputs": []
    },
    {
      "cell_type": "markdown",
      "source": [
        "\n",
        "\n",
        "*   List item\n",
        "*   List item\n",
        "\n"
      ],
      "metadata": {
        "id": "G6zzgsskMSMv"
      }
    },
    {
      "cell_type": "code",
      "execution_count": 13,
      "metadata": {
        "colab": {
          "base_uri": "https://localhost:8080/"
        },
        "id": "61qbv_utmRuf",
        "outputId": "706ceeb5-e026-4dc3-8005-058337086b87"
      },
      "outputs": [
        {
          "output_type": "stream",
          "name": "stderr",
          "text": [
            "/tmp/ipython-input-1321465115.py:2: DtypeWarning: Columns (3) have mixed types. Specify dtype option on import or set low_memory=False.\n",
            "  nyc_df = pd.read_csv('rows.csv')\n"
          ]
        }
      ],
      "source": [
        "import pandas as pd\n",
        "nyc_df = pd.read_csv('rows.csv')"
      ]
    },
    {
      "cell_type": "code",
      "execution_count": 14,
      "metadata": {
        "colab": {
          "base_uri": "https://localhost:8080/"
        },
        "id": "La4bOQWsmRug",
        "outputId": "03a0719c-cf30-4cb9-8756-a72d06fda54e"
      },
      "outputs": [
        {
          "output_type": "stream",
          "name": "stdout",
          "text": [
            "2205618\n"
          ]
        }
      ],
      "source": [
        "# number or rows\n",
        "\n",
        "print(len(nyc_df))\n",
        "\n",
        "# this is quite large so we will work with a sample while we experiment in pandas as least."
      ]
    },
    {
      "cell_type": "markdown",
      "metadata": {
        "id": "_cqtTXKKmRug"
      },
      "source": [
        "We'll take a random sample at 20% of the original data"
      ]
    },
    {
      "cell_type": "code",
      "execution_count": 15,
      "metadata": {
        "id": "paupUT9tmRug"
      },
      "outputs": [],
      "source": [
        "nyc_small = nyc_df.sample(frac=0.2, replace=False, random_state=1)"
      ]
    },
    {
      "cell_type": "code",
      "execution_count": 16,
      "metadata": {
        "id": "clfGBsxcmRug"
      },
      "outputs": [],
      "source": [
        "# we are also going to limit the columns to those we are going to work with\n",
        "\n",
        "nyc_small = nyc_small[['CRASH DATE', 'CONTRIBUTING FACTOR VEHICLE 1',\n",
        "                       'BOROUGH', 'VEHICLE TYPE CODE 1',\n",
        "                       'NUMBER OF PERSONS INJURED']]"
      ]
    },
    {
      "cell_type": "code",
      "execution_count": 17,
      "metadata": {
        "colab": {
          "base_uri": "https://localhost:8080/",
          "height": 112
        },
        "id": "2M9OdJBWmRug",
        "outputId": "7918ee9e-5bbf-44d1-bbb4-567f235e4175"
      },
      "outputs": [
        {
          "output_type": "execute_result",
          "data": {
            "text/plain": [
              "         CRASH DATE   CONTRIBUTING FACTOR VEHICLE 1   BOROUGH  \\\n",
              "1909713  06/24/2013  Driver Inattention/Distraction  BROOKLYN   \n",
              "1253713  06/28/2016            Unsafe Lane Changing       NaN   \n",
              "\n",
              "        VEHICLE TYPE CODE 1  NUMBER OF PERSONS INJURED  \n",
              "1909713   PASSENGER VEHICLE                        0.0  \n",
              "1253713          4 dr sedan                        0.0  "
            ],
            "text/html": [
              "\n",
              "  <div id=\"df-ecc9e147-a07f-4ea5-a3ca-5a2d49ff1632\" class=\"colab-df-container\">\n",
              "    <div>\n",
              "<style scoped>\n",
              "    .dataframe tbody tr th:only-of-type {\n",
              "        vertical-align: middle;\n",
              "    }\n",
              "\n",
              "    .dataframe tbody tr th {\n",
              "        vertical-align: top;\n",
              "    }\n",
              "\n",
              "    .dataframe thead th {\n",
              "        text-align: right;\n",
              "    }\n",
              "</style>\n",
              "<table border=\"1\" class=\"dataframe\">\n",
              "  <thead>\n",
              "    <tr style=\"text-align: right;\">\n",
              "      <th></th>\n",
              "      <th>CRASH DATE</th>\n",
              "      <th>CONTRIBUTING FACTOR VEHICLE 1</th>\n",
              "      <th>BOROUGH</th>\n",
              "      <th>VEHICLE TYPE CODE 1</th>\n",
              "      <th>NUMBER OF PERSONS INJURED</th>\n",
              "    </tr>\n",
              "  </thead>\n",
              "  <tbody>\n",
              "    <tr>\n",
              "      <th>1909713</th>\n",
              "      <td>06/24/2013</td>\n",
              "      <td>Driver Inattention/Distraction</td>\n",
              "      <td>BROOKLYN</td>\n",
              "      <td>PASSENGER VEHICLE</td>\n",
              "      <td>0.0</td>\n",
              "    </tr>\n",
              "    <tr>\n",
              "      <th>1253713</th>\n",
              "      <td>06/28/2016</td>\n",
              "      <td>Unsafe Lane Changing</td>\n",
              "      <td>NaN</td>\n",
              "      <td>4 dr sedan</td>\n",
              "      <td>0.0</td>\n",
              "    </tr>\n",
              "  </tbody>\n",
              "</table>\n",
              "</div>\n",
              "    <div class=\"colab-df-buttons\">\n",
              "\n",
              "  <div class=\"colab-df-container\">\n",
              "    <button class=\"colab-df-convert\" onclick=\"convertToInteractive('df-ecc9e147-a07f-4ea5-a3ca-5a2d49ff1632')\"\n",
              "            title=\"Convert this dataframe to an interactive table.\"\n",
              "            style=\"display:none;\">\n",
              "\n",
              "  <svg xmlns=\"http://www.w3.org/2000/svg\" height=\"24px\" viewBox=\"0 -960 960 960\">\n",
              "    <path d=\"M120-120v-720h720v720H120Zm60-500h600v-160H180v160Zm220 220h160v-160H400v160Zm0 220h160v-160H400v160ZM180-400h160v-160H180v160Zm440 0h160v-160H620v160ZM180-180h160v-160H180v160Zm440 0h160v-160H620v160Z\"/>\n",
              "  </svg>\n",
              "    </button>\n",
              "\n",
              "  <style>\n",
              "    .colab-df-container {\n",
              "      display:flex;\n",
              "      gap: 12px;\n",
              "    }\n",
              "\n",
              "    .colab-df-convert {\n",
              "      background-color: #E8F0FE;\n",
              "      border: none;\n",
              "      border-radius: 50%;\n",
              "      cursor: pointer;\n",
              "      display: none;\n",
              "      fill: #1967D2;\n",
              "      height: 32px;\n",
              "      padding: 0 0 0 0;\n",
              "      width: 32px;\n",
              "    }\n",
              "\n",
              "    .colab-df-convert:hover {\n",
              "      background-color: #E2EBFA;\n",
              "      box-shadow: 0px 1px 2px rgba(60, 64, 67, 0.3), 0px 1px 3px 1px rgba(60, 64, 67, 0.15);\n",
              "      fill: #174EA6;\n",
              "    }\n",
              "\n",
              "    .colab-df-buttons div {\n",
              "      margin-bottom: 4px;\n",
              "    }\n",
              "\n",
              "    [theme=dark] .colab-df-convert {\n",
              "      background-color: #3B4455;\n",
              "      fill: #D2E3FC;\n",
              "    }\n",
              "\n",
              "    [theme=dark] .colab-df-convert:hover {\n",
              "      background-color: #434B5C;\n",
              "      box-shadow: 0px 1px 3px 1px rgba(0, 0, 0, 0.15);\n",
              "      filter: drop-shadow(0px 1px 2px rgba(0, 0, 0, 0.3));\n",
              "      fill: #FFFFFF;\n",
              "    }\n",
              "  </style>\n",
              "\n",
              "    <script>\n",
              "      const buttonEl =\n",
              "        document.querySelector('#df-ecc9e147-a07f-4ea5-a3ca-5a2d49ff1632 button.colab-df-convert');\n",
              "      buttonEl.style.display =\n",
              "        google.colab.kernel.accessAllowed ? 'block' : 'none';\n",
              "\n",
              "      async function convertToInteractive(key) {\n",
              "        const element = document.querySelector('#df-ecc9e147-a07f-4ea5-a3ca-5a2d49ff1632');\n",
              "        const dataTable =\n",
              "          await google.colab.kernel.invokeFunction('convertToInteractive',\n",
              "                                                    [key], {});\n",
              "        if (!dataTable) return;\n",
              "\n",
              "        const docLinkHtml = 'Like what you see? Visit the ' +\n",
              "          '<a target=\"_blank\" href=https://colab.research.google.com/notebooks/data_table.ipynb>data table notebook</a>'\n",
              "          + ' to learn more about interactive tables.';\n",
              "        element.innerHTML = '';\n",
              "        dataTable['output_type'] = 'display_data';\n",
              "        await google.colab.output.renderOutput(dataTable, element);\n",
              "        const docLink = document.createElement('div');\n",
              "        docLink.innerHTML = docLinkHtml;\n",
              "        element.appendChild(docLink);\n",
              "      }\n",
              "    </script>\n",
              "  </div>\n",
              "\n",
              "\n",
              "    <div id=\"df-7614f81f-7bed-4d72-80fa-98bcec2f2282\">\n",
              "      <button class=\"colab-df-quickchart\" onclick=\"quickchart('df-7614f81f-7bed-4d72-80fa-98bcec2f2282')\"\n",
              "                title=\"Suggest charts\"\n",
              "                style=\"display:none;\">\n",
              "\n",
              "<svg xmlns=\"http://www.w3.org/2000/svg\" height=\"24px\"viewBox=\"0 0 24 24\"\n",
              "     width=\"24px\">\n",
              "    <g>\n",
              "        <path d=\"M19 3H5c-1.1 0-2 .9-2 2v14c0 1.1.9 2 2 2h14c1.1 0 2-.9 2-2V5c0-1.1-.9-2-2-2zM9 17H7v-7h2v7zm4 0h-2V7h2v10zm4 0h-2v-4h2v4z\"/>\n",
              "    </g>\n",
              "</svg>\n",
              "      </button>\n",
              "\n",
              "<style>\n",
              "  .colab-df-quickchart {\n",
              "      --bg-color: #E8F0FE;\n",
              "      --fill-color: #1967D2;\n",
              "      --hover-bg-color: #E2EBFA;\n",
              "      --hover-fill-color: #174EA6;\n",
              "      --disabled-fill-color: #AAA;\n",
              "      --disabled-bg-color: #DDD;\n",
              "  }\n",
              "\n",
              "  [theme=dark] .colab-df-quickchart {\n",
              "      --bg-color: #3B4455;\n",
              "      --fill-color: #D2E3FC;\n",
              "      --hover-bg-color: #434B5C;\n",
              "      --hover-fill-color: #FFFFFF;\n",
              "      --disabled-bg-color: #3B4455;\n",
              "      --disabled-fill-color: #666;\n",
              "  }\n",
              "\n",
              "  .colab-df-quickchart {\n",
              "    background-color: var(--bg-color);\n",
              "    border: none;\n",
              "    border-radius: 50%;\n",
              "    cursor: pointer;\n",
              "    display: none;\n",
              "    fill: var(--fill-color);\n",
              "    height: 32px;\n",
              "    padding: 0;\n",
              "    width: 32px;\n",
              "  }\n",
              "\n",
              "  .colab-df-quickchart:hover {\n",
              "    background-color: var(--hover-bg-color);\n",
              "    box-shadow: 0 1px 2px rgba(60, 64, 67, 0.3), 0 1px 3px 1px rgba(60, 64, 67, 0.15);\n",
              "    fill: var(--button-hover-fill-color);\n",
              "  }\n",
              "\n",
              "  .colab-df-quickchart-complete:disabled,\n",
              "  .colab-df-quickchart-complete:disabled:hover {\n",
              "    background-color: var(--disabled-bg-color);\n",
              "    fill: var(--disabled-fill-color);\n",
              "    box-shadow: none;\n",
              "  }\n",
              "\n",
              "  .colab-df-spinner {\n",
              "    border: 2px solid var(--fill-color);\n",
              "    border-color: transparent;\n",
              "    border-bottom-color: var(--fill-color);\n",
              "    animation:\n",
              "      spin 1s steps(1) infinite;\n",
              "  }\n",
              "\n",
              "  @keyframes spin {\n",
              "    0% {\n",
              "      border-color: transparent;\n",
              "      border-bottom-color: var(--fill-color);\n",
              "      border-left-color: var(--fill-color);\n",
              "    }\n",
              "    20% {\n",
              "      border-color: transparent;\n",
              "      border-left-color: var(--fill-color);\n",
              "      border-top-color: var(--fill-color);\n",
              "    }\n",
              "    30% {\n",
              "      border-color: transparent;\n",
              "      border-left-color: var(--fill-color);\n",
              "      border-top-color: var(--fill-color);\n",
              "      border-right-color: var(--fill-color);\n",
              "    }\n",
              "    40% {\n",
              "      border-color: transparent;\n",
              "      border-right-color: var(--fill-color);\n",
              "      border-top-color: var(--fill-color);\n",
              "    }\n",
              "    60% {\n",
              "      border-color: transparent;\n",
              "      border-right-color: var(--fill-color);\n",
              "    }\n",
              "    80% {\n",
              "      border-color: transparent;\n",
              "      border-right-color: var(--fill-color);\n",
              "      border-bottom-color: var(--fill-color);\n",
              "    }\n",
              "    90% {\n",
              "      border-color: transparent;\n",
              "      border-bottom-color: var(--fill-color);\n",
              "    }\n",
              "  }\n",
              "</style>\n",
              "\n",
              "      <script>\n",
              "        async function quickchart(key) {\n",
              "          const quickchartButtonEl =\n",
              "            document.querySelector('#' + key + ' button');\n",
              "          quickchartButtonEl.disabled = true;  // To prevent multiple clicks.\n",
              "          quickchartButtonEl.classList.add('colab-df-spinner');\n",
              "          try {\n",
              "            const charts = await google.colab.kernel.invokeFunction(\n",
              "                'suggestCharts', [key], {});\n",
              "          } catch (error) {\n",
              "            console.error('Error during call to suggestCharts:', error);\n",
              "          }\n",
              "          quickchartButtonEl.classList.remove('colab-df-spinner');\n",
              "          quickchartButtonEl.classList.add('colab-df-quickchart-complete');\n",
              "        }\n",
              "        (() => {\n",
              "          let quickchartButtonEl =\n",
              "            document.querySelector('#df-7614f81f-7bed-4d72-80fa-98bcec2f2282 button');\n",
              "          quickchartButtonEl.style.display =\n",
              "            google.colab.kernel.accessAllowed ? 'block' : 'none';\n",
              "        })();\n",
              "      </script>\n",
              "    </div>\n",
              "\n",
              "    </div>\n",
              "  </div>\n"
            ],
            "application/vnd.google.colaboratory.intrinsic+json": {
              "type": "dataframe",
              "variable_name": "nyc_small"
            }
          },
          "metadata": {},
          "execution_count": 17
        }
      ],
      "source": [
        "nyc_small.head(2)"
      ]
    },
    {
      "cell_type": "markdown",
      "metadata": {
        "id": "EsNba429mRug"
      },
      "source": [
        "Now, let's create the pyspark dataframe. Now we two frames with the same content\n",
        "  * nyc_small: pandas\n",
        "  * sdf_small: pyspark"
      ]
    },
    {
      "cell_type": "code",
      "execution_count": 20,
      "metadata": {
        "colab": {
          "base_uri": "https://localhost:8080/"
        },
        "id": "3tQ8dcvhmRug",
        "outputId": "63269c67-4c88-4cf4-8700-289d2eb9b490"
      },
      "outputs": [
        {
          "output_type": "stream",
          "name": "stderr",
          "text": [
            "/usr/local/lib/python3.12/dist-packages/pyspark/sql/context.py:113: FutureWarning: Deprecated in 3.0.0. Use SparkSession.builder.getOrCreate() instead.\n",
            "  warnings.warn(\n"
          ]
        },
        {
          "output_type": "stream",
          "name": "stdout",
          "text": [
            "StructType([StructField('CRASH DATE', StringType(), True), StructField('CONTRIBUTING FACTOR VEHICLE 1', StringType(), True), StructField('BOROUGH', StringType(), True), StructField('VEHICLE TYPE CODE 1', StringType(), True), StructField('NUMBER OF PERSONS INJURED', StringType(), True)])\n"
          ]
        }
      ],
      "source": [
        "from pyspark.sql import SparkSession\n",
        "from pyspark.sql import SQLContext\n",
        "\n",
        "# Create SparkSession if it doesn't exist\n",
        "spark = SparkSession.builder.appName('panda-and-spark').getOrCreate()\n",
        "\n",
        "# there are nan's in the frame with strings, and spark can't 'infer the schema', so we have to help it out\n",
        "# by replacing them with empty strings and forcing the column to be a string\n",
        "\n",
        "sdf_small = SQLContext(spark).createDataFrame(nyc_small.fillna('').astype('str'))\n",
        "\n",
        "\n",
        "# Lets check the schema quickly\n",
        "\n",
        "print(sdf_small.schema)"
      ]
    },
    {
      "cell_type": "markdown",
      "metadata": {
        "id": "V4KAgw_omRug"
      },
      "source": [
        "# Questions\n",
        "\n",
        "Answer the following questions by porting the pandas code to the Spark API\n"
      ]
    },
    {
      "cell_type": "markdown",
      "metadata": {
        "id": "7JynuU0umRug"
      },
      "source": [
        "\n",
        "# Question 1\n",
        "\n",
        "\n",
        "> On what day do most crashes occcur?"
      ]
    },
    {
      "cell_type": "code",
      "execution_count": 21,
      "metadata": {
        "colab": {
          "base_uri": "https://localhost:8080/",
          "height": 272
        },
        "id": "BTAQTlh4mRug",
        "outputId": "86a4a5ec-3071-4b7d-ccc5-ab475e6c8702"
      },
      "outputs": [
        {
          "output_type": "execute_result",
          "data": {
            "text/plain": [
              "CRASH DATE\n",
              "01/21/2014    261\n",
              "12/15/2017    229\n",
              "11/15/2018    213\n",
              "05/19/2017    211\n",
              "01/18/2015    198\n",
              "Name: CRASH DATE, dtype: int64"
            ],
            "text/html": [
              "<div>\n",
              "<style scoped>\n",
              "    .dataframe tbody tr th:only-of-type {\n",
              "        vertical-align: middle;\n",
              "    }\n",
              "\n",
              "    .dataframe tbody tr th {\n",
              "        vertical-align: top;\n",
              "    }\n",
              "\n",
              "    .dataframe thead th {\n",
              "        text-align: right;\n",
              "    }\n",
              "</style>\n",
              "<table border=\"1\" class=\"dataframe\">\n",
              "  <thead>\n",
              "    <tr style=\"text-align: right;\">\n",
              "      <th></th>\n",
              "      <th>CRASH DATE</th>\n",
              "    </tr>\n",
              "    <tr>\n",
              "      <th>CRASH DATE</th>\n",
              "      <th></th>\n",
              "    </tr>\n",
              "  </thead>\n",
              "  <tbody>\n",
              "    <tr>\n",
              "      <th>01/21/2014</th>\n",
              "      <td>261</td>\n",
              "    </tr>\n",
              "    <tr>\n",
              "      <th>12/15/2017</th>\n",
              "      <td>229</td>\n",
              "    </tr>\n",
              "    <tr>\n",
              "      <th>11/15/2018</th>\n",
              "      <td>213</td>\n",
              "    </tr>\n",
              "    <tr>\n",
              "      <th>05/19/2017</th>\n",
              "      <td>211</td>\n",
              "    </tr>\n",
              "    <tr>\n",
              "      <th>01/18/2015</th>\n",
              "      <td>198</td>\n",
              "    </tr>\n",
              "  </tbody>\n",
              "</table>\n",
              "</div><br><label><b>dtype:</b> int64</label>"
            ]
          },
          "metadata": {},
          "execution_count": 21
        }
      ],
      "source": [
        "# Pandas\n",
        "nyc_small.groupby('CRASH DATE')['CRASH DATE'].count().sort_values(ascending=False).head(5)"
      ]
    },
    {
      "cell_type": "code",
      "source": [],
      "metadata": {
        "id": "BJzPOXcNYejR"
      },
      "execution_count": null,
      "outputs": []
    },
    {
      "cell_type": "code",
      "execution_count": null,
      "metadata": {
        "colab": {
          "base_uri": "https://localhost:8080/"
        },
        "outputId": "52589e3d-53a0-495c-cfb7-8943ff9f9137",
        "id": "RavcjpWfYe_X"
      },
      "outputs": [
        {
          "output_type": "stream",
          "name": "stdout",
          "text": [
            "--- Loading data from rows.csv ---\n",
            "\n",
            "--- Top 5 dates with most crashes ---\n",
            "+----------+-----+\n",
            "|CRASH_DATE|count|\n",
            "+----------+-----+\n",
            "|2014-01-21|1161 |\n",
            "|2018-11-15|1065 |\n",
            "|2017-12-15|999  |\n",
            "|2017-05-19|974  |\n",
            "|2015-01-18|961  |\n",
            "+----------+-----+\n",
            "\n",
            "\n",
            "--- Spark session stopped ---\n"
          ]
        }
      ],
      "source": [
        "## Spark?\n",
        "from pyspark.sql import SparkSession\n",
        "from pyspark.sql import functions as F\n",
        "\n",
        "def main():\n",
        "    \"\"\"\n",
        "    Load rows.csv and print the top five dates with the most crashes.\n",
        "    \"\"\"\n",
        "    spark = SparkSession.builder.appName(\"TopCrashDates\").getOrCreate()\n",
        "\n",
        "    print(\"--- Loading data from rows.csv ---\")\n",
        "    try:\n",
        "        df = (\n",
        "            spark.read\n",
        "                 .option(\"header\", True)\n",
        "                 .option(\"inferSchema\", True)\n",
        "                 .csv(\"rows.csv\")\n",
        "        )\n",
        "    except Exception as e:\n",
        "        print(\"Error: Could not load 'rows.csv'.\")\n",
        "        print(f\"Details: {e}\")\n",
        "        spark.stop()\n",
        "        return\n",
        "\n",
        "    # --- Find the crash-date column (handles both 'CRASH DATE' and 'CRASH_DATE')\n",
        "    crash_date_col = \"CRASH DATE\" if \"CRASH DATE\" in df.columns else \\\n",
        "                     \"CRASH_DATE\" if \"CRASH_DATE\" in df.columns else None\n",
        "    if crash_date_col is None:\n",
        "        print(\"Error: No 'CRASH DATE' or 'CRASH_DATE' column found.\")\n",
        "        spark.stop()\n",
        "        return\n",
        "\n",
        "    # --- Ensure it's a proper date (dataset uses MM/dd/yyyy)\n",
        "    # Use df[crash_date_col] so names with spaces work.\n",
        "    df2 = (\n",
        "        df.filter(df[crash_date_col].isNotNull())\n",
        "          .withColumn(\"CRASH_DATE\",\n",
        "                      F.to_date(df[crash_date_col], \"MM/dd/yyyy\"))\n",
        "    )\n",
        "\n",
        "    # If parsing failed (already a date type in some files), coalesce to original cast\n",
        "    df2 = df2.withColumn(\n",
        "        \"CRASH_DATE\",\n",
        "        F.coalesce(F.col(\"CRASH_DATE\"), F.to_date(df[crash_date_col]))\n",
        "    )\n",
        "\n",
        "    # --- Group, count, sort, and take top 5\n",
        "    result_df = (\n",
        "        df2.groupBy(\"CRASH_DATE\")\n",
        "           .count()\n",
        "           .orderBy(F.desc(\"count\"))\n",
        "           .limit(5)\n",
        "    )\n",
        "\n",
        "    print(\"\\n--- Top 5 dates with most crashes ---\")\n",
        "    result_df.show(truncate=False)\n",
        "\n",
        "    spark.stop()\n",
        "    print(\"\\n--- Spark session stopped ---\")\n",
        "\n",
        "if __name__ == \"__main__\":\n",
        "    main()\n",
        "\n"
      ]
    },
    {
      "cell_type": "markdown",
      "metadata": {
        "id": "z5i_sEXcmRug"
      },
      "source": [
        "# Question 2\n",
        "\n",
        "> _Where do most crashes occur?_"
      ]
    },
    {
      "cell_type": "code",
      "execution_count": 34,
      "metadata": {
        "colab": {
          "base_uri": "https://localhost:8080/",
          "height": 272
        },
        "id": "QAxY6BBMmRuh",
        "outputId": "097d8104-572e-4e63-8b39-d6222d2e6144"
      },
      "outputs": [
        {
          "output_type": "execute_result",
          "data": {
            "text/plain": [
              "BOROUGH\n",
              "BROOKLYN         98083\n",
              "QUEENS           81779\n",
              "MANHATTAN        67716\n",
              "BRONX            45144\n",
              "STATEN ISLAND    12680\n",
              "Name: BOROUGH, dtype: int64"
            ],
            "text/html": [
              "<div>\n",
              "<style scoped>\n",
              "    .dataframe tbody tr th:only-of-type {\n",
              "        vertical-align: middle;\n",
              "    }\n",
              "\n",
              "    .dataframe tbody tr th {\n",
              "        vertical-align: top;\n",
              "    }\n",
              "\n",
              "    .dataframe thead th {\n",
              "        text-align: right;\n",
              "    }\n",
              "</style>\n",
              "<table border=\"1\" class=\"dataframe\">\n",
              "  <thead>\n",
              "    <tr style=\"text-align: right;\">\n",
              "      <th></th>\n",
              "      <th>BOROUGH</th>\n",
              "    </tr>\n",
              "    <tr>\n",
              "      <th>BOROUGH</th>\n",
              "      <th></th>\n",
              "    </tr>\n",
              "  </thead>\n",
              "  <tbody>\n",
              "    <tr>\n",
              "      <th>BROOKLYN</th>\n",
              "      <td>98083</td>\n",
              "    </tr>\n",
              "    <tr>\n",
              "      <th>QUEENS</th>\n",
              "      <td>81779</td>\n",
              "    </tr>\n",
              "    <tr>\n",
              "      <th>MANHATTAN</th>\n",
              "      <td>67716</td>\n",
              "    </tr>\n",
              "    <tr>\n",
              "      <th>BRONX</th>\n",
              "      <td>45144</td>\n",
              "    </tr>\n",
              "    <tr>\n",
              "      <th>STATEN ISLAND</th>\n",
              "      <td>12680</td>\n",
              "    </tr>\n",
              "  </tbody>\n",
              "</table>\n",
              "</div><br><label><b>dtype:</b> int64</label>"
            ]
          },
          "metadata": {},
          "execution_count": 34
        }
      ],
      "source": [
        "nyc_small.groupby('BOROUGH')['BOROUGH'].count().sort_values(ascending=False).head(5)"
      ]
    },
    {
      "cell_type": "code",
      "source": [
        "from pyspark.sql import SparkSession\n",
        "from pyspark.sql import functions as F\n",
        "\n",
        "def main():\n",
        "    \"\"\"\n",
        "    Load rows.csv and print the top 5 BOROUGHs with the most crashes.\n",
        "    \"\"\"\n",
        "    spark = SparkSession.builder.appName(\"TopBoroughsByCrashes\").getOrCreate()\n",
        "\n",
        "    print(\"--- Loading data from rows.csv ---\")\n",
        "    try:\n",
        "        df = (\n",
        "            spark.read\n",
        "                 .option(\"header\", True)\n",
        "                 .option(\"inferSchema\", True)\n",
        "                 .csv(\"rows.csv\")\n",
        "        )\n",
        "    except Exception as e:\n",
        "        print(\"Error: Could not load 'rows.csv'.\")\n",
        "        print(\"Please ensure the file is in the same directory as this script.\")\n",
        "        print(f\"Details: {e}\")\n",
        "        spark.stop()\n",
        "        return\n",
        "\n",
        "    # Ensure the BOROUGH column exists\n",
        "    if \"BOROUGH\" not in df.columns:\n",
        "        print(\"Error: 'BOROUGH' column not found in rows.csv.\")\n",
        "        spark.stop()\n",
        "        return\n",
        "\n",
        "    # Clean borough names (trim + uppercase), filter out null/empty, then aggregate\n",
        "    result_df = (\n",
        "        df.withColumn(\"BOROUGH_CLEAN\", F.upper(F.trim(F.col(\"BOROUGH\"))))\n",
        "          .filter(F.col(\"BOROUGH_CLEAN\").isNotNull() & (F.col(\"BOROUGH_CLEAN\") != \"\"))\n",
        "          .groupBy(\"BOROUGH_CLEAN\")\n",
        "          .count()\n",
        "          .orderBy(F.desc(\"count\"))\n",
        "          .limit(5)\n",
        "    )\n",
        "\n",
        "    print(\"\\n--- Top 5 BOROUGHs with most crashes ---\")\n",
        "    result_df.show(truncate=False)\n",
        "\n",
        "    spark.stop()\n",
        "    print(\"\\n--- Spark session stopped ---\")\n",
        "\n",
        "if __name__ == \"__main__\":\n",
        "    main()\n"
      ],
      "metadata": {
        "id": "zCqkQY2wZzj3",
        "outputId": "be706c9f-363b-43b5-ee46-a509771bba9c",
        "colab": {
          "base_uri": "https://localhost:8080/"
        }
      },
      "execution_count": 38,
      "outputs": [
        {
          "output_type": "stream",
          "name": "stdout",
          "text": [
            "--- Loading data from rows.csv ---\n",
            "\n",
            "--- Top 5 BOROUGHs with most crashes ---\n",
            "+-------------+------+\n",
            "|BOROUGH_CLEAN|count |\n",
            "+-------------+------+\n",
            "|BROOKLYN     |489424|\n",
            "|QUEENS       |409665|\n",
            "|MANHATTAN    |338848|\n",
            "|BRONX        |226360|\n",
            "|STATEN ISLAND|64032 |\n",
            "+-------------+------+\n",
            "\n",
            "\n",
            "--- Spark session stopped ---\n"
          ]
        }
      ]
    },
    {
      "cell_type": "markdown",
      "metadata": {
        "id": "eKqZdYmVmRuh"
      },
      "source": [
        " # Question 3\n",
        "\n",
        " > What is the most common cause of accident in 'QUEENS'"
      ]
    },
    {
      "cell_type": "code",
      "execution_count": 39,
      "metadata": {
        "colab": {
          "base_uri": "https://localhost:8080/",
          "height": 272
        },
        "id": "7E2YI5B1mRuh",
        "outputId": "7eb636f4-3cd3-4ece-a8e5-f242ab561478"
      },
      "outputs": [
        {
          "output_type": "execute_result",
          "data": {
            "text/plain": [
              "CONTRIBUTING FACTOR VEHICLE 1\n",
              "Unspecified                       27921\n",
              "Driver Inattention/Distraction    17672\n",
              "Failure to Yield Right-of-Way      7102\n",
              "Backing Unsafely                   3917\n",
              "Following Too Closely              2995\n",
              "Name: CONTRIBUTING FACTOR VEHICLE 1, dtype: int64"
            ],
            "text/html": [
              "<div>\n",
              "<style scoped>\n",
              "    .dataframe tbody tr th:only-of-type {\n",
              "        vertical-align: middle;\n",
              "    }\n",
              "\n",
              "    .dataframe tbody tr th {\n",
              "        vertical-align: top;\n",
              "    }\n",
              "\n",
              "    .dataframe thead th {\n",
              "        text-align: right;\n",
              "    }\n",
              "</style>\n",
              "<table border=\"1\" class=\"dataframe\">\n",
              "  <thead>\n",
              "    <tr style=\"text-align: right;\">\n",
              "      <th></th>\n",
              "      <th>CONTRIBUTING FACTOR VEHICLE 1</th>\n",
              "    </tr>\n",
              "    <tr>\n",
              "      <th>CONTRIBUTING FACTOR VEHICLE 1</th>\n",
              "      <th></th>\n",
              "    </tr>\n",
              "  </thead>\n",
              "  <tbody>\n",
              "    <tr>\n",
              "      <th>Unspecified</th>\n",
              "      <td>27921</td>\n",
              "    </tr>\n",
              "    <tr>\n",
              "      <th>Driver Inattention/Distraction</th>\n",
              "      <td>17672</td>\n",
              "    </tr>\n",
              "    <tr>\n",
              "      <th>Failure to Yield Right-of-Way</th>\n",
              "      <td>7102</td>\n",
              "    </tr>\n",
              "    <tr>\n",
              "      <th>Backing Unsafely</th>\n",
              "      <td>3917</td>\n",
              "    </tr>\n",
              "    <tr>\n",
              "      <th>Following Too Closely</th>\n",
              "      <td>2995</td>\n",
              "    </tr>\n",
              "  </tbody>\n",
              "</table>\n",
              "</div><br><label><b>dtype:</b> int64</label>"
            ]
          },
          "metadata": {},
          "execution_count": 39
        }
      ],
      "source": [
        "nyc_small[(nyc_small.BOROUGH == 'QUEENS')]['CONTRIBUTING FACTOR VEHICLE 1'].value_counts()\n",
        "\n",
        "# you can also use a group by (to avoid the pandas value_counts function)\n",
        "\n",
        "nyc_small[(nyc_small.BOROUGH == 'QUEENS')].groupby(\n",
        "    'CONTRIBUTING FACTOR VEHICLE 1'\n",
        ")['CONTRIBUTING FACTOR VEHICLE 1'].count().sort_values(ascending=False).head(5)"
      ]
    },
    {
      "cell_type": "code",
      "execution_count": 40,
      "metadata": {
        "colab": {
          "base_uri": "https://localhost:8080/"
        },
        "id": "JezfaVNRmRuh",
        "outputId": "4cc2920f-15b6-40db-af7b-6e1162c8daa7"
      },
      "outputs": [
        {
          "output_type": "stream",
          "name": "stdout",
          "text": [
            "\n",
            "Most common cause in QUEENS:\n",
            "+-----------+------+\n",
            "|CAUSE      |count |\n",
            "+-----------+------+\n",
            "|UNSPECIFIED|140132|\n",
            "+-----------+------+\n",
            "\n",
            "\n",
            "Most common *meaningful* cause in QUEENS (excluding Unspecified/Other):\n",
            "+------------------------------+-----+\n",
            "|CAUSE                         |count|\n",
            "+------------------------------+-----+\n",
            "|DRIVER INATTENTION/DISTRACTION|88677|\n",
            "|FAILURE TO YIELD RIGHT-OF-WAY |35342|\n",
            "|BACKING UNSAFELY              |19850|\n",
            "|FOLLOWING TOO CLOSELY         |15102|\n",
            "|PASSING OR LANE USAGE IMPROPER|11653|\n",
            "+------------------------------+-----+\n",
            "\n"
          ]
        }
      ],
      "source": [
        "## Spark?\n",
        "from pyspark.sql import SparkSession, functions as F\n",
        "\n",
        "spark = SparkSession.builder.appName(\"TopCauseQueens\").getOrCreate()\n",
        "\n",
        "# Load CSV\n",
        "df = (spark.read\n",
        "          .option(\"header\", True)\n",
        "          .option(\"inferSchema\", True)\n",
        "          .csv(\"rows.csv\"))\n",
        "\n",
        "# Pick the contributing-factor column (handles common variants)\n",
        "factor_candidates = [\n",
        "    \"CONTRIBUTING FACTOR VEHICLE 1\",\n",
        "    \"CONTRIBUTING_FACTOR_VEHICLE_1\",\n",
        "    \"CONTRIBUTING FACTOR\",\n",
        "    \"PRIMARY CONTRIBUTING FACTOR\",\n",
        "    \"PRIMARY_CONTRIBUTING_FACTOR\",\n",
        "]\n",
        "factor_col = next((c for c in factor_candidates if c in df.columns), None)\n",
        "if factor_col is None:\n",
        "    raise ValueError(\"No contributing-factor column found in rows.csv\")\n",
        "\n",
        "# Compute top cause in QUEENS\n",
        "top_cause = (\n",
        "    df.withColumn(\"BOROUGH_CLEAN\", F.upper(F.trim(F.col(\"BOROUGH\"))))\n",
        "      .withColumn(\"CAUSE\", F.upper(F.trim(F.col(factor_col))))\n",
        "      .filter((F.col(\"BOROUGH_CLEAN\") == \"QUEENS\") & F.col(\"CAUSE\").isNotNull() & (F.col(\"CAUSE\") != \"\"))\n",
        "      .groupBy(\"CAUSE\")\n",
        "      .count()\n",
        "      .orderBy(F.desc(\"count\"))\n",
        "      .limit(1)\n",
        ")\n",
        "\n",
        "print(\"\\nMost common cause in QUEENS:\")\n",
        "top_cause.show(truncate=False)\n",
        "\n",
        "# (Optional) exclude vague labels like 'UNSPECIFIED' / 'OTHER' and see the top 1 again:\n",
        "exclude = [\"UNSPECIFIED\", \"OTHER\", \"OTHER VEHICULAR\", \"UNKNOWN\"]\n",
        "meaningful_top = (\n",
        "    df.withColumn(\"BOROUGH_CLEAN\", F.upper(F.trim(F.col(\"BOROUGH\"))))\n",
        "      .withColumn(\"CAUSE\", F.upper(F.trim(F.col(factor_col))))\n",
        "      .filter((F.col(\"BOROUGH_CLEAN\") == \"QUEENS\") & F.col(\"CAUSE\").isNotNull() & (F.col(\"CAUSE\") != \"\"))\n",
        "      .filter(~F.col(\"CAUSE\").isin(exclude))\n",
        "      .groupBy(\"CAUSE\")\n",
        "      .count()\n",
        "      .orderBy(F.desc(\"count\"))\n",
        "      .limit(5)\n",
        ")\n",
        "\n",
        "print(\"\\nMost common *meaningful* cause in QUEENS (excluding Unspecified/Other):\")\n",
        "meaningful_top.show(truncate=False)\n",
        "\n",
        "\n"
      ]
    },
    {
      "cell_type": "markdown",
      "metadata": {
        "id": "Er6YBzrmmRuh"
      },
      "source": [
        "# Question 4"
      ]
    },
    {
      "cell_type": "markdown",
      "metadata": {
        "id": "lcEiZTGimRui"
      },
      "source": [
        "> _What is the average number or injuries for specific cars driving in specific suburbs_\n"
      ]
    },
    {
      "cell_type": "code",
      "execution_count": 42,
      "metadata": {
        "colab": {
          "base_uri": "https://localhost:8080/",
          "height": 210
        },
        "id": "NDjca6UkmRui",
        "outputId": "c4864407-5ad7-4581-eeb2-93d528a64808"
      },
      "outputs": [
        {
          "output_type": "execute_result",
          "data": {
            "text/plain": [
              "VEHICLE TYPE CODE 1  BOROUGH \n",
              "FRONT                BROOKLYN    12.0\n",
              "MTA B                BROOKLYN     7.0\n",
              "Amb                  BROOKLYN     4.0\n",
              "Name: NUMBER OF PERSONS INJURED, dtype: float64"
            ],
            "text/html": [
              "<div>\n",
              "<style scoped>\n",
              "    .dataframe tbody tr th:only-of-type {\n",
              "        vertical-align: middle;\n",
              "    }\n",
              "\n",
              "    .dataframe tbody tr th {\n",
              "        vertical-align: top;\n",
              "    }\n",
              "\n",
              "    .dataframe thead th {\n",
              "        text-align: right;\n",
              "    }\n",
              "</style>\n",
              "<table border=\"1\" class=\"dataframe\">\n",
              "  <thead>\n",
              "    <tr style=\"text-align: right;\">\n",
              "      <th></th>\n",
              "      <th></th>\n",
              "      <th>NUMBER OF PERSONS INJURED</th>\n",
              "    </tr>\n",
              "    <tr>\n",
              "      <th>VEHICLE TYPE CODE 1</th>\n",
              "      <th>BOROUGH</th>\n",
              "      <th></th>\n",
              "    </tr>\n",
              "  </thead>\n",
              "  <tbody>\n",
              "    <tr>\n",
              "      <th>FRONT</th>\n",
              "      <th>BROOKLYN</th>\n",
              "      <td>12.0</td>\n",
              "    </tr>\n",
              "    <tr>\n",
              "      <th>MTA B</th>\n",
              "      <th>BROOKLYN</th>\n",
              "      <td>7.0</td>\n",
              "    </tr>\n",
              "    <tr>\n",
              "      <th>Amb</th>\n",
              "      <th>BROOKLYN</th>\n",
              "      <td>4.0</td>\n",
              "    </tr>\n",
              "  </tbody>\n",
              "</table>\n",
              "</div><br><label><b>dtype:</b> float64</label>"
            ]
          },
          "metadata": {},
          "execution_count": 42
        }
      ],
      "source": [
        "nyc_small.groupby(['VEHICLE TYPE CODE 1', 'BOROUGH'])['NUMBER OF PERSONS INJURED'].mean().sort_values(ascending=False).head(3)"
      ]
    },
    {
      "cell_type": "code",
      "execution_count": 43,
      "metadata": {
        "colab": {
          "base_uri": "https://localhost:8080/"
        },
        "id": "rbBx2XvomRui",
        "outputId": "ff8dcabe-6191-47b0-cde3-88d851de3ca1"
      },
      "outputs": [
        {
          "output_type": "stream",
          "name": "stdout",
          "text": [
            "\n",
            "Top 3 (BOROUGH, VEHICLE) by average injuries:\n",
            "+-------------+-------------+------------+---------+\n",
            "|BOROUGH_CLEAN|VEHICLE_CLEAN|AVG_INJURIES|N_RECORDS|\n",
            "+-------------+-------------+------------+---------+\n",
            "|BROOKLYN     |FRONT        |12.0        |1        |\n",
            "|QUEENS       |RMB          |11.0        |1        |\n",
            "|MANHATTAN    |MTA B        |9.0         |1        |\n",
            "+-------------+-------------+------------+---------+\n",
            "\n"
          ]
        }
      ],
      "source": [
        "## Spark?\n",
        "from pyspark.sql import SparkSession, functions as F\n",
        "\n",
        "spark = SparkSession.builder.getOrCreate()\n",
        "\n",
        "df = (spark.read\n",
        "          .option(\"header\", True)\n",
        "          .option(\"inferSchema\", True)\n",
        "          .csv(\"rows.csv\"))\n",
        "\n",
        "# Pick columns (handles common variants / spaces)\n",
        "borough_col = next((c for c in [\"BOROUGH\", \"Borough\"] if c in df.columns), None)\n",
        "veh_col     = next((c for c in [\"VEHICLE TYPE CODE 1\", \"VEHICLE_TYPE_CODE_1\",\n",
        "                                \"VEHICLE TYPE\", \"VEHICLE_TYPE\"] if c in df.columns), None)\n",
        "inj_col     = next((c for c in [\"NUMBER OF PERSONS INJURED\", \"PERSONS INJURED\",\n",
        "                                \"NUMBER_OF_PERSONS_INJURED\", \"PERSONS_INJURED\"] if c in df.columns), None)\n",
        "assert borough_col and veh_col and inj_col, \"Required columns not found.\"\n",
        "\n",
        "# Compute average injuries per (BOROUGH, VEHICLE) and show top 3\n",
        "result = (df\n",
        "    .withColumn(\"BOROUGH_CLEAN\", F.upper(F.trim(F.col(borough_col))))\n",
        "    .withColumn(\"VEHICLE_CLEAN\", F.upper(F.trim(F.col(veh_col))))\n",
        "    .withColumn(\"INJ\", F.col(inj_col).cast(\"double\"))\n",
        "    .filter(F.col(\"BOROUGH_CLEAN\").isNotNull() & (F.col(\"BOROUGH_CLEAN\") != \"\"))\n",
        "    .filter(F.col(\"VEHICLE_CLEAN\").isNotNull() & (F.col(\"VEHICLE_CLEAN\") != \"\"))\n",
        "    .groupBy(\"BOROUGH_CLEAN\", \"VEHICLE_CLEAN\")\n",
        "    .agg(\n",
        "        F.round(F.avg(\"INJ\"), 3).alias(\"AVG_INJURIES\"),\n",
        "        F.count(\"*\").alias(\"N_RECORDS\")\n",
        "    )\n",
        "    .orderBy(F.desc(\"AVG_INJURIES\"), F.desc(\"N_RECORDS\"))\n",
        "    .limit(3)\n",
        ")\n",
        "\n",
        "print(\"\\nTop 3 (BOROUGH, VEHICLE) by average injuries:\")\n",
        "result.show(truncate=False)\n"
      ]
    }
  ],
  "metadata": {
    "kernelspec": {
      "display_name": "Python 3",
      "language": "python",
      "name": "python3"
    },
    "language_info": {
      "codemirror_mode": {
        "name": "ipython",
        "version": 3
      },
      "file_extension": ".py",
      "mimetype": "text/x-python",
      "name": "python",
      "nbconvert_exporter": "python",
      "pygments_lexer": "ipython3",
      "version": "3.6.9"
    },
    "colab": {
      "provenance": [],
      "include_colab_link": true
    }
  },
  "nbformat": 4,
  "nbformat_minor": 0
}